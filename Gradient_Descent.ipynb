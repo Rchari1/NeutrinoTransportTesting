{
 "cells": [
  {
   "cell_type": "markdown",
   "id": "06252297-58bc-4c75-9eaf-bea63fcbf336",
   "metadata": {},
   "source": [
    "# Welcome to the Gradient Descent workbook.\n",
    "\n",
    "## Live Gradient Descent project\n",
    "\n",
    "This notebook is designed to **Create a functioning workflow for numerical optimasation of controll paramiters of the **FENN** code. \n",
    "\n",
    "### Getting Started\n",
    "\n",
    "### Contact\n",
    "\n",
    "For any questions please reach out to **Adam Cole** (acole32@vols.utk.edu)\n"
   ]
  },
  {
   "cell_type": "code",
   "execution_count": 3,
   "id": "ab8588ed-2490-40ce-b023-2993b16d1131",
   "metadata": {},
   "outputs": [],
   "source": [
    "import numpy as np\n",
    "import matplotlib.pyplot as plt\n",
    "import os\n",
    "\n",
    "#Establish domain\n",
    "\n",
    "#pick random point\n",
    "\n",
    "#Shell commands:\n",
    "#modifly FENN\n",
    "#compile FENN\n",
    "\n",
    "#Extract data, delete the rest\n",
    "\n",
    "#Evaluate cost fuction\n",
    "\n",
    "#calculate gradient\n",
    "\n",
    "#repete from step 3\n",
    "\n",
    "#check for convergence\n",
    "\n"
   ]
  },
  {
   "cell_type": "code",
   "execution_count": null,
   "id": "9a6d9005-9b72-4a8d-abf9-44a5041457f9",
   "metadata": {},
   "outputs": [],
   "source": []
  },
  {
   "cell_type": "code",
   "execution_count": null,
   "id": "5ad8c5e2",
   "metadata": {},
   "outputs": [],
   "source": []
  }
 ],
 "metadata": {
  "kernelspec": {
   "display_name": "Python 3 (ipykernel)",
   "language": "python",
   "name": "python3"
  },
  "language_info": {
   "codemirror_mode": {
    "name": "ipython",
    "version": 3
   },
   "file_extension": ".py",
   "mimetype": "text/x-python",
   "name": "python",
   "nbconvert_exporter": "python",
   "pygments_lexer": "ipython3",
   "version": "3.8.10"
  }
 },
 "nbformat": 4,
 "nbformat_minor": 5
}
