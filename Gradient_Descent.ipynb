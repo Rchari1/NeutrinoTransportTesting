{
 "cells": [
  {
   "cell_type": "markdown",
   "id": "06252297-58bc-4c75-9eaf-bea63fcbf336",
   "metadata": {},
   "source": [
    "# Welcome to the Gradient Descent workbook.\n",
    "\n",
    "## Live Gradient Descent project\n",
    "\n",
    "This notebook is designed to **Create a functioning workflow for numerical optimasation of controll paramiters of the **FENN** code. \n",
    "\n",
    "### Getting Started\n",
    "\n",
    "### Contact\n",
    "\n",
    "For any questions please reach out to **Adam Cole** (acole32@vols.utk.edu)\n"
   ]
  },
  {
   "cell_type": "code",
   "execution_count": 3,
   "id": "ab8588ed-2490-40ce-b023-2993b16d1131",
   "metadata": {},
   "outputs": [],
   "source": [
    "import numpy as np\n",
    "import matplotlib.pyplot as plt\n",
    "import os\n",
    "\n",
    "#Establish domain\n",
    "\n",
    "#pick random point\n",
    "\n",
    "#Shell commands:\n",
    "#modifly FENN\n",
    "#compile FENN\n",
    "\n",
    "#Extract data, delete the rest\n",
    "\n",
    "#Evaluate cost fuction\n",
    "\n",
    "#calculate gradient\n",
    "\n",
    "#repete from step 3\n",
    "\n",
    "#check for convergence\n",
    "\n"
   ]
  },
  {
   "cell_type": "code",
   "execution_count": 4,
   "id": "9a6d9005-9b72-4a8d-abf9-44a5041457f9",
   "metadata": {},
   "outputs": [
    {
     "ename": "SyntaxError",
     "evalue": "invalid syntax (4075200176.py, line 4)",
     "output_type": "error",
     "traceback": [
      "\u001b[0;36m  Cell \u001b[0;32mIn[4], line 4\u001b[0;36m\u001b[0m\n\u001b[0;31m    if User_idx = AHC:\u001b[0m\n\u001b[0m                ^\u001b[0m\n\u001b[0;31mSyntaxError\u001b[0m\u001b[0;31m:\u001b[0m invalid syntax\n"
     ]
    }
   ],
   "source": [
    "User_idx = AHC\n",
    "\n",
    "def Users(User_idx):\n",
    "    if User_idx = AHC:\n",
    "        COMP = g++ Networks.cpp -o FENN -I/usr/include/eigen3 -I/usr/include/hdf5/serial -L/usr/lib/x86_64-linux-gnu/hdf5/serial -lhdf5_cpp -lhdf5 -g 2>&1 | tee compile.log\n",
    "    elif User_idx = OJC:\n",
    "        COMP = \n",
    "\n",
    "    return"
   ]
  },
  {
   "cell_type": "code",
   "execution_count": 5,
   "id": "23a30f59",
   "metadata": {},
   "outputs": [],
   "source": [
    "#Establish domain\n",
    "\n",
    "EpsA_range=(\"1.0e-03\" \"1.0e-06\")#Hi to Low\n",
    "EpsR_range=(\"1.0e-03\" \"1.0e-06\")\n",
    "Scheme_Array=(ExplicitAsymptotic)"
   ]
  },
  {
   "cell_type": "code",
   "execution_count": 6,
   "id": "29f7e15c",
   "metadata": {},
   "outputs": [
    {
     "ename": "SyntaxError",
     "evalue": "invalid syntax (3587312846.py, line 2)",
     "output_type": "error",
     "traceback": [
      "\u001b[0;36m  Cell \u001b[0;32mIn[6], line 2\u001b[0;36m\u001b[0m\n\u001b[0;31m    EpsA_values=\u001b[0m\n\u001b[0m                ^\u001b[0m\n\u001b[0;31mSyntaxError\u001b[0m\u001b[0;31m:\u001b[0m invalid syntax\n"
     ]
    }
   ],
   "source": [
    "#pick random point\n",
    "EpsA_values=\n",
    "EpsR_values="
   ]
  },
  {
   "cell_type": "code",
   "execution_count": null,
   "id": "aba469b5",
   "metadata": {},
   "outputs": [],
   "source": [
    "#modifly FENN\n",
    "    # Modify Networks.cpp to update EpsA and EpsR values\n",
    "    !sed -i \"s/double EpsA = [0-9.e+-]*;/double EpsA = $NEW_EpsA;/\" Networks.cpp\n",
    "    !sed -i \"s/double EpsR = [0-9.e+-]*;/double EpsR = $NEW_EpsR;/\" Networks.cpp\n",
    "    !sed -i \"s/string Scheme = \\\".*\\\";/string Scheme = \\\"$Scheme\\\";/\" Networks.cpp"
   ]
  }
 ],
 "metadata": {
  "kernelspec": {
   "display_name": "Python 3 (ipykernel)",
   "language": "python",
   "name": "python3"
  },
  "language_info": {
   "codemirror_mode": {
    "name": "ipython",
    "version": 3
   },
   "file_extension": ".py",
   "mimetype": "text/x-python",
   "name": "python",
   "nbconvert_exporter": "python",
   "pygments_lexer": "ipython3",
   "version": "3.8.10"
  }
 },
 "nbformat": 4,
 "nbformat_minor": 5
}
